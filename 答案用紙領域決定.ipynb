{
 "cells": [
  {
   "cell_type": "code",
   "execution_count": 1,
   "metadata": {
    "collapsed": true
   },
   "outputs": [],
   "source": [
    "from wand.image import Image\n",
    "from PIL import Image as pil\n",
    "import numpy as np\n",
    "import pandas as pd\n",
    "import io\n",
    "import matplotlib.pyplot as plt"
   ]
  },
  {
   "cell_type": "code",
   "execution_count": 2,
   "metadata": {
    "collapsed": true
   },
   "outputs": [],
   "source": [
    "def resized(image):\n",
    "    if image.size != (2479, 3521):\n",
    "        image.resize(2479, 3521)\n",
    "        \n",
    "    return image"
   ]
  },
  {
   "cell_type": "code",
   "execution_count": 3,
   "metadata": {
    "collapsed": false,
    "scrolled": true
   },
   "outputs": [],
   "source": [
    "#解答用紙を画素ベクトルに変換する関数\n",
    "def convert_to_array(filename, pix):\n",
    "\n",
    "    with Image(filename=filename, resolution=300) as f:\n",
    "        with Image(image=f.sequence[0]) as page1:\n",
    "            page1 = page1.convert(\"jpeg\")\n",
    "            page1 = resized(page1)\n",
    "            page1.save(filename=r\"C:\\Users\\Aki\\Documents\\saiten\\928\\test.jpg\")\n",
    "            img = page1.make_blob(\"jpeg\")\n",
    "            img_array = np.array(pil.open(io.BytesIO(img)))\n",
    "            dim = len(img_array.shape)\n",
    "            \n",
    "            #次元の異なる画像に対応\n",
    "            if dim == 3:\n",
    "                img_array = np.sum(img_array, axis=2) / 765\n",
    "            elif dim == 2:\n",
    "                img_array = img_array / 255\n",
    "                \n",
    "            #解像度の小さい解答用紙への対応\n",
    "            print(img_array.shape)\n",
    "            \n",
    "            #図への描画\n",
    "            #indexes = np.where(img_array<0.5)\n",
    "            #plt.scatter(indexes[0], indexes[1], s=1)\n",
    "            #plt.title(filename)\n",
    "            #plt.show()\n",
    "            \n",
    "            #0のサンプルが多すぎるので削減\n",
    "            img_array = img_array[:pix]\n",
    "            \n",
    "    return img_array"
   ]
  },
  {
   "cell_type": "code",
   "execution_count": 4,
   "metadata": {
    "collapsed": false,
    "scrolled": false
   },
   "outputs": [
    {
     "name": "stdout",
     "output_type": "stream",
     "text": [
      "(3521, 2479)\n"
     ]
    }
   ],
   "source": [
    "#学習させる答案用紙の指定\n",
    "train_file1 = convert_to_array(r\"C:\\Users\\Aki\\Documents\\saiten\\928\\022617501430715652.pdf\", 600)\n",
    "y1 = np.zeros(train_file1.shape[0], dtype=np.int8)\n",
    "\n",
    "for i in range(496, 525):\n",
    "    y1[i] = 1"
   ]
  },
  {
   "cell_type": "code",
   "execution_count": 5,
   "metadata": {
    "collapsed": false
   },
   "outputs": [
    {
     "name": "stdout",
     "output_type": "stream",
     "text": [
      "(3521, 2479)\n"
     ]
    }
   ],
   "source": [
    "train_file2 = convert_to_array(r\"C:\\Users\\Aki\\Documents\\saiten\\928\\022617501631716385.pdf\", 600)\n",
    "y2 = np.zeros(train_file2.shape[0], dtype=np.int8)\n",
    "\n",
    "for i in range(536, 563):\n",
    "    y2[i] = 1"
   ]
  },
  {
   "cell_type": "code",
   "execution_count": 5,
   "metadata": {
    "collapsed": false,
    "scrolled": false
   },
   "outputs": [
    {
     "name": "stdout",
     "output_type": "stream",
     "text": [
      "(3521, 2479)\n"
     ]
    }
   ],
   "source": [
    "train_file3 = convert_to_array(r\"C:\\Users\\Aki\\Documents\\saiten\\928\\022617501530355427.pdf\", 600)\n",
    "y3 = np.zeros(train_file3.shape[0], dtype=np.int8)\n",
    "\n",
    "for i in range(525, 552):\n",
    "    y3[i] = 1"
   ]
  },
  {
   "cell_type": "code",
   "execution_count": 6,
   "metadata": {
    "collapsed": false,
    "scrolled": false
   },
   "outputs": [
    {
     "name": "stdout",
     "output_type": "stream",
     "text": [
      "(3521, 2479)\n"
     ]
    }
   ],
   "source": [
    "train_file4 = convert_to_array(r\"C:\\Users\\Aki\\Documents\\saiten\\928\\022617501530406463.pdf\",600)\n",
    "y4 = np.zeros(train_file4.shape[0], dtype=np.int8)\n",
    "\n",
    "for i in range(496,523):\n",
    "    y4[i] = 1"
   ]
  },
  {
   "cell_type": "code",
   "execution_count": 7,
   "metadata": {
    "collapsed": false,
    "scrolled": true
   },
   "outputs": [
    {
     "name": "stdout",
     "output_type": "stream",
     "text": [
      "(3521, 2479)\n"
     ]
    }
   ],
   "source": [
    "train_file5 = convert_to_array(r\"C:\\Users\\Aki\\Documents\\saiten\\928\\022617501628151097.pdf\", 600)\n",
    "y5 = np.zeros(train_file5.shape[0])\n",
    "\n",
    "for i in range(494, 525):\n",
    "    y5[i] = 1"
   ]
  },
  {
   "cell_type": "code",
   "execution_count": 8,
   "metadata": {
    "collapsed": false,
    "scrolled": false
   },
   "outputs": [
    {
     "name": "stdout",
     "output_type": "stream",
     "text": [
      "(3521, 2479)\n"
     ]
    }
   ],
   "source": [
    "train_file6 = convert_to_array(r\"C:\\Users\\Aki\\Documents\\saiten\\928\\022617501628491262.pdf\", 600)\n",
    "y6 = np.zeros(train_file6.shape[0])\n",
    "\n",
    "for i in range(496, 525):\n",
    "    y6[i] = 1"
   ]
  },
  {
   "cell_type": "code",
   "execution_count": 9,
   "metadata": {
    "collapsed": false,
    "scrolled": true
   },
   "outputs": [
    {
     "name": "stdout",
     "output_type": "stream",
     "text": [
      "(3521, 2479)\n"
     ]
    }
   ],
   "source": [
    "train_file7 = convert_to_array(r\"C:\\Users\\Aki\\Documents\\saiten\\928\\022617501629885060.pdf\", 600)\n",
    "y7 = np.zeros(train_file7.shape[0])\n",
    "\n",
    "for i in range(462, 494):\n",
    "    y7[i] = 1"
   ]
  },
  {
   "cell_type": "code",
   "execution_count": 10,
   "metadata": {
    "collapsed": false,
    "scrolled": true
   },
   "outputs": [
    {
     "name": "stdout",
     "output_type": "stream",
     "text": [
      "(3521, 2479)\n"
     ]
    }
   ],
   "source": [
    "train_file8 = convert_to_array(r\"C:\\Users\\Aki\\Documents\\saiten\\928\\022617501629257212.pdf\", 700)\n",
    "y8 = np.zeros(train_file8.shape[0])\n",
    "\n",
    "for i in range(623, 655):\n",
    "    y8[i] = 1"
   ]
  },
  {
   "cell_type": "code",
   "execution_count": 11,
   "metadata": {
    "collapsed": false,
    "scrolled": true
   },
   "outputs": [
    {
     "name": "stdout",
     "output_type": "stream",
     "text": [
      "(3521, 2479)\n"
     ]
    }
   ],
   "source": [
    "train_file9 = convert_to_array(r\"C:\\Users\\Aki\\Documents\\saiten\\928\\022617501528337191.pdf\", 600)\n",
    "y9 = np.zeros(train_file9.shape[0])\n",
    "for i in range(438, 465):\n",
    "    y9[i] = 1"
   ]
  },
  {
   "cell_type": "code",
   "execution_count": null,
   "metadata": {
    "collapsed": false
   },
   "outputs": [],
   "source": [
    "train_file10 = convert_to_array(r\"C:\\Users\\Aki\\Documents\\saiten\\20170913\\022617500934019561.pdf\", 600)\n",
    "y10 = np.zeros(train_file10.shape[0])\n",
    "\n",
    "for i in range(457, 483):\n",
    "    y10[i] = 1"
   ]
  },
  {
   "cell_type": "code",
   "execution_count": 12,
   "metadata": {
    "collapsed": false
   },
   "outputs": [
    {
     "name": "stdout",
     "output_type": "stream",
     "text": [
      "(4300, 2479) (4300,)\n"
     ]
    }
   ],
   "source": [
    "#データの連結\n",
    "X = np.vstack((train_file3, train_file4, train_file5, train_file6, train_file7, train_file8, train_file9))\n",
    "y = np.hstack((y3, y4, y5,y6, y7, y8, y9))\n",
    "\n",
    "print(X.shape, y.shape)"
   ]
  },
  {
   "cell_type": "code",
   "execution_count": 13,
   "metadata": {
    "collapsed": false,
    "scrolled": true
   },
   "outputs": [
    {
     "name": "stdout",
     "output_type": "stream",
     "text": [
      "10\n"
     ]
    },
    {
     "data": {
      "image/png": "[encoded data removed]",
      "text/plain": [
       "<matplotlib.figure.Figure at 0xe92bad0>"
      ]
     },
     "metadata": {},
     "output_type": "display_data"
    }
   ],
   "source": [
    "from sklearn.ensemble import RandomForestClassifier\n",
    "from sklearn.model_selection import StratifiedKFold, cross_val_score\n",
    "recalls = []\n",
    "recall_max = 0\n",
    "parameter = 0\n",
    "\n",
    "for i in range(1,21):\n",
    "    model = RandomForestClassifier(n_estimators=i)\n",
    "    kf = StratifiedKFold(n_splits=5, shuffle=True, random_state=0)\n",
    "    scores = cross_val_score(model, X, y, cv=kf, scoring=\"precision_macro\")\n",
    "    recalls.append(scores.mean())\n",
    "    \n",
    "    if recall_max < scores.mean():\n",
    "        recall_max = scores.mean()\n",
    "        parameter = i\n",
    "        \n",
    "print(parameter)\n",
    "    \n",
    "plt.plot(range(1,21), recalls)\n",
    "plt.xlabel(\"n_estimators\")\n",
    "plt.ylabel(\"recall_score\")\n",
    "plt.show()"
   ]
  },
  {
   "cell_type": "code",
   "execution_count": 14,
   "metadata": {
    "collapsed": true
   },
   "outputs": [],
   "source": [
    "del train_file3, train_file4, train_file5, train_file6, train_file7, train_file8, train_file9\n",
    "del y3,y4,y5,y6,y7,y8,y9"
   ]
  },
  {
   "cell_type": "code",
   "execution_count": 40,
   "metadata": {
    "collapsed": false
   },
   "outputs": [
    {
     "name": "stdout",
     "output_type": "stream",
     "text": [
      "(3521, 2479)\n"
     ]
    }
   ],
   "source": [
    "X_test = convert_to_array(r\"C:\\Users\\Aki\\Documents\\saiten\\928\\022617501631716385.pdf\", 880)\n",
    "y_test = np.zeros(X_test.shape[0])\n",
    "\n",
    "for i in range(536, 563):\n",
    "    y_test[i] = 1"
   ]
  },
  {
   "cell_type": "code",
   "execution_count": 41,
   "metadata": {
    "collapsed": false,
    "scrolled": true
   },
   "outputs": [
    {
     "name": "stdout",
     "output_type": "stream",
     "text": [
      "正答率:0.9943181818181818\n"
     ]
    }
   ],
   "source": [
    "from sklearn.ensemble import RandomForestClassifier\n",
    "\n",
    "model = RandomForestClassifier(n_estimators=15)\n",
    "model.fit(X, y)\n",
    "\n",
    "score = model.score(X_test, y_test)\n",
    "\n",
    "print(\"正答率:{}\".format(score))"
   ]
  },
  {
   "cell_type": "code",
   "execution_count": 42,
   "metadata": {
    "collapsed": false,
    "scrolled": true
   },
   "outputs": [
    {
     "name": "stdout",
     "output_type": "stream",
     "text": [
      "1.0\n"
     ]
    }
   ],
   "source": [
    "import sklearn.metrics as metrics\n",
    "\n",
    "print(metrics.precision_score(y_test, model.predict(X_test)))"
   ]
  },
  {
   "cell_type": "code",
   "execution_count": 43,
   "metadata": {
    "collapsed": false,
    "scrolled": true
   },
   "outputs": [
    {
     "name": "stdout",
     "output_type": "stream",
     "text": [
      "(array([536, 537, 538, 539, 540, 541, 542, 543, 544, 545, 547, 548, 549,\n",
      "       550, 551, 554, 555, 556, 557, 558, 559, 560], dtype=int32),)\n"
     ]
    }
   ],
   "source": [
    "y_predicted = model.predict(X_test)\n",
    "indexes = np.where(y_predicted==1)\n",
    "print(indexes)"
   ]
  },
  {
   "cell_type": "code",
   "execution_count": 44,
   "metadata": {
    "collapsed": false
   },
   "outputs": [
    {
     "name": "stdout",
     "output_type": "stream",
     "text": [
      "527 567\n"
     ]
    }
   ],
   "source": [
    "#平均を取り、領域を判定\n",
    "average = int(indexes[0].mean())\n",
    "min = average-20\n",
    "max = average+20\n",
    "\n",
    "print(min, max)"
   ]
  },
  {
   "cell_type": "code",
   "execution_count": null,
   "metadata": {
    "collapsed": true
   },
   "outputs": [],
   "source": []
  }
 ],
 "metadata": {
  "kernelspec": {
   "display_name": "Python 3",
   "language": "python",
   "name": "python3"
  },
  "language_info": {
   "codemirror_mode": {
    "name": "ipython",
    "version": 3
   },
   "file_extension": ".py",
   "mimetype": "text/x-python",
   "name": "python",
   "nbconvert_exporter": "python",
   "pygments_lexer": "ipython3",
   "version": "3.6.0"
  }
 },
 "nbformat": 4,
 "nbformat_minor": 2
}
